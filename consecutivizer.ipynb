{
 "cells": [
  {
   "cell_type": "code",
   "execution_count": 1,
   "id": "bcd21f8d-e3c3-427b-8c3f-3d219be622be",
   "metadata": {},
   "outputs": [],
   "source": [
    "import scanpy as sc\n",
    "import numpy as np\n",
    "import tqdm\n",
    "import matplotlib.pyplot as plt\n",
    "from sklearn.cluster import KMeans\n",
    "from collections import Counter, defaultdict\n",
    "from scipy.sparse import csr_matrix\n",
    "from scipy import sparse\n",
    "import itertools as it"
   ]
  },
  {
   "cell_type": "code",
   "execution_count": 2,
   "id": "abb89014-bf0e-4c07-92b9-04f7f25bb967",
   "metadata": {},
   "outputs": [],
   "source": [
    "FILE = \"datasets/10XGenomics/Targeted_SC3v3_Human_Glioblastoma_Neuroscience_filtered_feature_bc_matrix.h5\"\n",
    "# FILE = \"datasets/10XGenomics/Human_PBMCs_Next_GEM_Flex_GEM-X_Flex_Comparison_count_filtered_feature_bc_matrix.h5\""
   ]
  },
  {
   "cell_type": "code",
   "execution_count": 3,
   "id": "299936e6-fd32-4847-90f3-b73d21882321",
   "metadata": {},
   "outputs": [
    {
     "name": "stderr",
     "output_type": "stream",
     "text": [
      "/Library/Frameworks/Python.framework/Versions/3.12/lib/python3.12/site-packages/anndata/_core/anndata.py:1758: UserWarning: Variable names are not unique. To make them unique, call `.var_names_make_unique`.\n",
      "  utils.warn_names_duplicates(\"var\")\n",
      "/Library/Frameworks/Python.framework/Versions/3.12/lib/python3.12/site-packages/anndata/_core/anndata.py:1758: UserWarning: Variable names are not unique. To make them unique, call `.var_names_make_unique`.\n",
      "  utils.warn_names_duplicates(\"var\")\n"
     ]
    }
   ],
   "source": [
    "adata = sc.read_10x_h5(FILE)\n",
    "X = adata.X.todense()"
   ]
  },
  {
   "cell_type": "code",
   "execution_count": 5,
   "id": "0b4a09ad-d2ff-47cd-9277-83fab6aae0a2",
   "metadata": {},
   "outputs": [],
   "source": [
    "B = lambda i: len(bin(i)) - 2\n",
    "def cell(X, i):\n",
    "    return np.array(X[i, :]).flatten()"
   ]
  },
  {
   "cell_type": "code",
   "execution_count": 6,
   "id": "129a1ddf-8764-435d-b92d-04a0067bdab0",
   "metadata": {},
   "outputs": [],
   "source": [
    "def write_bytes(handle, bits, bytes=4):\n",
    "    handle.write(int(bits[::-1], 2).to_bytes(bytes, 'little'))\n",
    "    return bytes * 4\n",
    "\n",
    "def write_int(handle, value, bytes=4):\n",
    "    handle.write(value.to_bytes(bytes, 'little'))\n",
    "    return bytes * 4\n",
    "\n",
    "def write_array(handle, array):\n",
    "    bits = len(bin(int(max(array)))) - 2\n",
    "    write_int(handle, len(array))\n",
    "    write_int(handle, bits)\n",
    "\n",
    "    # print(len(array), bits, (len(array) * 23) - (len(array) * bits + 2 * 32 * 8))\n",
    "    curr_str = \"\"\n",
    "    for elem in array:\n",
    "        s = bin(int(elem))[2:].zfill(bits)\n",
    "        for char in s:\n",
    "            curr_str += char\n",
    "            if len(curr_str) == 32:\n",
    "                write_bytes(handle, curr_str)\n",
    "                curr_str = \"\"\n",
    "    if curr_str:\n",
    "        write_bytes(handle, curr_str)\n",
    "\n",
    "    return len(array) * bits + 2 * 32 * 8\n",
    "\n",
    "def write_arrays(handle, arrays):\n",
    "    total = write_int(handle, len(arrays))\n",
    "    for array in arrays:\n",
    "        total += write_array(handle, array)\n",
    "    return total"
   ]
  },
  {
   "cell_type": "code",
   "execution_count": 7,
   "id": "51404fdb-c270-423f-9b4c-9afe0b9d9f34",
   "metadata": {},
   "outputs": [],
   "source": [
    "B = lambda i: len(bin(int(i))) - 2\n",
    "\n",
    "def chop(bins, chop, testdrive=True):\n",
    "    n = 0\n",
    "    out = []\n",
    "    curr = []\n",
    "    chopping = False\n",
    "    for i in bins:\n",
    "        if (i >= chop and not chopping) or (i < chop and chopping):\n",
    "            if curr:\n",
    "                n += len(curr) * max(curr) + 2 * 32 * 8 # add space for writing bitsize and length of array\n",
    "                out.append(len(curr))\n",
    "                curr = []\n",
    "                chopping = not chopping\n",
    "        curr.append(i)\n",
    "    if curr:\n",
    "        out.append(len(curr))\n",
    "        n += len(curr) * max(curr) + 2 * 32 * 8 # add space for writing bitsize and length of array\n",
    "    return n if testdrive else out\n",
    "\n",
    "def unchop(chopped):\n",
    "    return [i for j in chopped for i in j]\n",
    "\n",
    "def do_chop(array, chops):\n",
    "    out = []\n",
    "    i = 0\n",
    "    for k in chops:\n",
    "        curr = []\n",
    "        for _ in range(k):\n",
    "            curr.append(array[i])\n",
    "            i += 1\n",
    "        out.append(curr)\n",
    "    return out\n",
    "\n",
    "def optimal_chop(array):\n",
    "    bins = list(map(B, array))\n",
    "    m = max(bins) + 1\n",
    "    last_chop = chop(bins, m)\n",
    "    while True:\n",
    "        test_chop = chop(bins, m - 1)\n",
    "        if test_chop < last_chop:\n",
    "            last_chop = test_chop\n",
    "            m -= 1\n",
    "        else:\n",
    "            break\n",
    "    \n",
    "    return do_chop(array, chop(bins, m, testdrive=False))"
   ]
  },
  {
   "cell_type": "code",
   "execution_count": 8,
   "id": "56e6d5da-d947-4668-b67b-f59f8276db27",
   "metadata": {},
   "outputs": [
    {
     "name": "stderr",
     "output_type": "stream",
     "text": [
      "100%|███████████████████████████████████| 5697/5697 [00:00<00:00, 219091.08it/s]\n",
      "100%|██████████████████████████████████| 2069/2069 [00:00<00:00, 1282023.19it/s]\n",
      "6756642it [00:01, 6245964.90it/s]\n",
      "100%|████████████████████████████████████████| 942/942 [00:02<00:00, 440.05it/s]\n",
      "100%|███████████████████████████████████| 2451/2451 [00:00<00:00, 859695.53it/s]\n"
     ]
    },
    {
     "data": {
      "text/plain": [
       "17954936"
      ]
     },
     "execution_count": 8,
     "metadata": {},
     "output_type": "execute_result"
    }
   ],
   "source": [
    "def flat_to_square(val, ncols):\n",
    "    return (val // ncols, val % ncols)\n",
    "\n",
    "def squarify_indices(arr, shape):\n",
    "    R, C = shape\n",
    "    coldiffs = []\n",
    "    rowchanges = []\n",
    "    current_col = 0\n",
    "    current_row = 0\n",
    "    # print(arr[:100])\n",
    "    for element in arr:#[:100]:\n",
    "        row, col = flat_to_square(element, C)\n",
    "        # print([row, col], end=' ')\n",
    "        if row > current_row:\n",
    "            coldiffs.append(col)\n",
    "            rowchanges.append(row - current_row)\n",
    "        else:\n",
    "            coldiffs.append(col - current_col)\n",
    "            rowchanges.append(0)\n",
    "        current_col, current_row = col, row\n",
    "    # print(coldiffs[:100], rowchanges[:100])\n",
    "    # print(R, C)\n",
    "    # input()\n",
    "    return coldiffs, rowchanges\n",
    "\n",
    "def consecutivize(X, handle, depth=1):\n",
    "    ncells = X.shape[0]\n",
    "    cells = []\n",
    "    for i in tqdm.trange(ncells):\n",
    "        cells.append(cell(X, i))\n",
    "\n",
    "    c = Counter(np.array(cells).flatten())\n",
    "    del c[0]\n",
    "\n",
    "    N = np.array(X).flatten().shape[0]\n",
    "    O = c[1]\n",
    "    \n",
    "    i = min(c)\n",
    "    body = []\n",
    "    while i in c:\n",
    "        body.append(c[i])\n",
    "        i += 1\n",
    "        if i == 0:\n",
    "            i += 1\n",
    "    K = i - 1\n",
    "    \n",
    "    T = 0\n",
    "    T1 = []\n",
    "    T2 = []\n",
    "    M = int(max(c))\n",
    "    for j in tqdm.trange(int(i), M + 1):\n",
    "        if j not in c:\n",
    "            continue\n",
    "        T += 1\n",
    "        T1.append(j)\n",
    "        T2.append(c[j])\n",
    "    \n",
    "    S = max(T2)\n",
    "    Xf = np.array(cells).flatten()\n",
    "    d = defaultdict(list)\n",
    "    for a, b in tqdm.tqdm(enumerate(Xf)):\n",
    "        d[b].append(a)\n",
    "\n",
    "    e = {}\n",
    "    for k, v in tqdm.tqdm(d.items()):\n",
    "        if v:\n",
    "            diffs = [v[0]] + [v[i + 1] - v[i] for i in range(len(v) - 1)]\n",
    "            if k < 10:\n",
    "                e[k] = optimal_chop(diffs)\n",
    "            else:\n",
    "                e[k] = diffs\n",
    "            # e[k] = squarify_indices(v, X.shape)\n",
    "    e = {k: v for k, v in e.items() if k in range(1, 101)}\n",
    "\n",
    "    R = []\n",
    "    for i in tqdm.trange(101, M + 1):\n",
    "        if i in d:\n",
    "            for j in d[i]:\n",
    "                R.append(j)\n",
    "    \n",
    "    total = 0\n",
    "    total += write_int(handle, X.shape[1])\n",
    "    for i in range(1, 10):\n",
    "        total += write_arrays(handle, e[i])\n",
    "    for i in range(10, 101):\n",
    "        total += write_array(handle, e[i])\n",
    "    total += write_array(handle, R)\n",
    "    total += write_array(handle, body)\n",
    "    total += write_array(handle, T1)\n",
    "    total += write_array(handle, T2)\n",
    "\n",
    "    return d, e, R, total\n",
    "    # return total\n",
    "    \n",
    "d, e, R, total = consecutivize(X, open(\"Human_PBMCs_Next_GEM_Flex_GEM-X_Flex_Comparison_count_filtered_feature_bc_matrix.conq\", \"wb\"))\n",
    "total"
   ]
  },
  {
   "cell_type": "code",
   "execution_count": 11,
   "id": "393d1b5a-ccca-48ab-8a36-e872bbf58822",
   "metadata": {},
   "outputs": [],
   "source": [
    "def read_bytes(handle, bytes=4):\n",
    "    byte_data = handle.read(bytes)\n",
    "    value = int.from_bytes(byte_data, 'little')\n",
    "    return bin(value)[2:].zfill(32)[::-1]\n",
    "\n",
    "def read_int(handle, bytes=4):\n",
    "    return int.from_bytes(handle.read(bytes), 'little')\n",
    "\n",
    "def read_array(handle):\n",
    "    array_length = read_int(handle)\n",
    "    bits = read_int(handle)\n",
    "    \n",
    "    array = []\n",
    "    curr_str = \"\"\n",
    "    remaining_bits = array_length * bits\n",
    "    \n",
    "    while remaining_bits > 0:\n",
    "        chunk = read_bytes(handle)\n",
    "        if chunk is None:\n",
    "            break\n",
    "        curr_str += chunk\n",
    "        \n",
    "        while len(curr_str) >= bits and len(array) < array_length:\n",
    "            element_bits = curr_str[:bits]\n",
    "            curr_str = curr_str[bits:]\n",
    "            array.append(int(element_bits, 2))\n",
    "            remaining_bits -= bits\n",
    "\n",
    "    return array\n",
    "\n",
    "def read_arrays(handle):\n",
    "    count = read_int(handle)\n",
    "    out = []\n",
    "    for _ in range(count):\n",
    "        out.append(read_array(handle))\n",
    "    return out"
   ]
  },
  {
   "cell_type": "code",
   "execution_count": 12,
   "id": "f6c077ac-e410-48ea-92c3-860134358898",
   "metadata": {},
   "outputs": [
    {
     "data": {
      "text/plain": [
       "<8703x18082 sparse matrix of type '<class 'numpy.int64'>'\n",
       "\twith 29048414 stored elements in Compressed Sparse Row format>"
      ]
     },
     "execution_count": 12,
     "metadata": {},
     "output_type": "execute_result"
    }
   ],
   "source": [
    "def conq_to_csr(handle, depth=1):\n",
    "    ncols = read_int(handle)\n",
    "    e = {}\n",
    "    for i in range(1, 10):\n",
    "        e[i] = unchop(read_arrays(handle))\n",
    "    for i in range(10, 101):\n",
    "        e[i] = read_array(handle)\n",
    "    R = read_array(handle)\n",
    "    body = read_array(handle)\n",
    "    T1 = read_array(handle)\n",
    "    T2 = read_array(handle)\n",
    "\n",
    "    rows = []\n",
    "    cols = []\n",
    "    data = []\n",
    "\n",
    "    for k, v in e.items():\n",
    "        c = 0\n",
    "        row = 0\n",
    "        col = 0\n",
    "        for i in v:\n",
    "            c += i\n",
    "            data.append(k)\n",
    "            row, col = flat_to_square(c, ncols)\n",
    "            rows.append(row)\n",
    "            cols.append(col)\n",
    "        # for i, j in zip(*v):\n",
    "        #     if j:\n",
    "        #         row += 1\n",
    "        #         col = 0\n",
    "        #     col += i\n",
    "        #     data.append(k)\n",
    "        #     rows.append(row)\n",
    "        #     cols.append(col)\n",
    "\n",
    "    i = 0\n",
    "    for v, n in enumerate(body[100:], start=101):\n",
    "        for _ in range(n):\n",
    "            row, col = flat_to_square(R[i], ncols)\n",
    "            data.append(v)\n",
    "            rows.append(row)\n",
    "            cols.append(col)\n",
    "            i += 1\n",
    "\n",
    "    for n, m in zip(T1, T2):\n",
    "        for _ in range(m):\n",
    "            row, col = flat_to_square(R[i], ncols)\n",
    "            data.append(n)\n",
    "            rows.append(row)\n",
    "            cols.append(col)\n",
    "            i += 1        \n",
    "    \n",
    "    return csr_matrix((data, (rows, cols)))\n",
    "\n",
    "a = conq_to_csr(open(\"Human_PBMCs_Next_GEM_Flex_GEM-X_Flex_Comparison_count_filtered_feature_bc_matrix.conq\", \"rb\"), depth=0)\n",
    "a"
   ]
  },
  {
   "cell_type": "code",
   "execution_count": 11,
   "id": "525073c1-9d81-4a5a-a68e-1c967a112f46",
   "metadata": {},
   "outputs": [
    {
     "data": {
      "text/plain": [
       "<5697x1186 sparse matrix of type '<class 'numpy.float32'>'\n",
       "\twith 1850701 stored elements in Compressed Sparse Row format>"
      ]
     },
     "execution_count": 11,
     "metadata": {},
     "output_type": "execute_result"
    }
   ],
   "source": [
    "b = csr_matrix(X)\n",
    "b"
   ]
  },
  {
   "cell_type": "code",
   "execution_count": 12,
   "id": "fcf53acc-9418-40d2-a3fb-f961de32763c",
   "metadata": {},
   "outputs": [
    {
     "data": {
      "text/plain": [
       "<5697x1186 sparse matrix of type '<class 'numpy.bool_'>'\n",
       "\twith 0 stored elements in Compressed Sparse Row format>"
      ]
     },
     "execution_count": 12,
     "metadata": {},
     "output_type": "execute_result"
    }
   ],
   "source": [
    "a != b"
   ]
  },
  {
   "cell_type": "code",
   "execution_count": 13,
   "id": "a7bc058c-e28b-4092-b132-8570bce53c83",
   "metadata": {},
   "outputs": [
    {
     "ename": "TypeError",
     "evalue": "'>=' not supported between instances of 'list' and 'int'",
     "output_type": "error",
     "traceback": [
      "\u001b[0;31m---------------------------------------------------------------------------\u001b[0m",
      "\u001b[0;31mTypeError\u001b[0m                                 Traceback (most recent call last)",
      "Cell \u001b[0;32mIn[13], line 1\u001b[0m\n\u001b[0;32m----> 1\u001b[0m \u001b[38;5;28;43msum\u001b[39;49m\u001b[43m(\u001b[49m\u001b[38;5;241;43m1\u001b[39;49m\u001b[43m \u001b[49m\u001b[38;5;28;43;01mfor\u001b[39;49;00m\u001b[43m \u001b[49m\u001b[43mi\u001b[49m\u001b[43m \u001b[49m\u001b[38;5;129;43;01min\u001b[39;49;00m\u001b[43m \u001b[49m\u001b[43me\u001b[49m\u001b[43m[\u001b[49m\u001b[38;5;241;43m1\u001b[39;49m\u001b[43m]\u001b[49m\u001b[43m \u001b[49m\u001b[38;5;28;43;01mif\u001b[39;49;00m\u001b[43m \u001b[49m\u001b[43mi\u001b[49m\u001b[43m \u001b[49m\u001b[38;5;241;43m>\u001b[39;49m\u001b[38;5;241;43m=\u001b[39;49m\u001b[43m \u001b[49m\u001b[38;5;241;43m128\u001b[39;49m\u001b[43m)\u001b[49m\n",
      "Cell \u001b[0;32mIn[13], line 1\u001b[0m, in \u001b[0;36m<genexpr>\u001b[0;34m(.0)\u001b[0m\n\u001b[0;32m----> 1\u001b[0m \u001b[38;5;28msum\u001b[39m(\u001b[38;5;241m1\u001b[39m \u001b[38;5;28;01mfor\u001b[39;00m i \u001b[38;5;129;01min\u001b[39;00m e[\u001b[38;5;241m1\u001b[39m] \u001b[38;5;28;01mif\u001b[39;00m \u001b[43mi\u001b[49m\u001b[43m \u001b[49m\u001b[38;5;241;43m>\u001b[39;49m\u001b[38;5;241;43m=\u001b[39;49m\u001b[43m \u001b[49m\u001b[38;5;241;43m128\u001b[39;49m)\n",
      "\u001b[0;31mTypeError\u001b[0m: '>=' not supported between instances of 'list' and 'int'"
     ]
    }
   ],
   "source": [
    "sum(1 for i in e[1] if i >= 128)"
   ]
  },
  {
   "cell_type": "code",
   "execution_count": null,
   "id": "ba877ae0-4305-4f98-9896-c46f7ff2c4a3",
   "metadata": {},
   "outputs": [],
   "source": []
  },
  {
   "cell_type": "code",
   "execution_count": null,
   "id": "18d656a4-d300-41c9-9aef-c528ed221841",
   "metadata": {},
   "outputs": [],
   "source": [
    "B = lambda i: len(bin(int(i))) - 2\n",
    "bins = list(map(B, e[2]))"
   ]
  },
  {
   "cell_type": "code",
   "execution_count": null,
   "id": "97c4df70-f533-4d60-83c4-5319b979ebd5",
   "metadata": {},
   "outputs": [],
   "source": [
    "max(bins)"
   ]
  },
  {
   "cell_type": "code",
   "execution_count": null,
   "id": "e0696540-2914-4f85-9493-f97aabbd055f",
   "metadata": {},
   "outputs": [],
   "source": []
  },
  {
   "cell_type": "code",
   "execution_count": null,
   "id": "0613aa51-b8bc-4c09-b237-342b585c0caf",
   "metadata": {},
   "outputs": [],
   "source": [
    "count_size(bins, 5)"
   ]
  }
 ],
 "metadata": {
  "kernelspec": {
   "display_name": "Python 3 (ipykernel)",
   "language": "python",
   "name": "python3"
  },
  "language_info": {
   "codemirror_mode": {
    "name": "ipython",
    "version": 3
   },
   "file_extension": ".py",
   "mimetype": "text/x-python",
   "name": "python",
   "nbconvert_exporter": "python",
   "pygments_lexer": "ipython3",
   "version": "3.12.0"
  }
 },
 "nbformat": 4,
 "nbformat_minor": 5
}
