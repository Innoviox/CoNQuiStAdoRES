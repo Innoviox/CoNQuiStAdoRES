{
 "cells": [
  {
   "cell_type": "code",
   "execution_count": 1,
   "id": "bcd21f8d-e3c3-427b-8c3f-3d219be622be",
   "metadata": {},
   "outputs": [],
   "source": [
    "import scanpy as sc\n",
    "import numpy as np\n",
    "import tqdm\n",
    "import matplotlib.pyplot as plt\n",
    "from sklearn.cluster import KMeans\n",
    "from collections import Counter, defaultdict\n",
    "from scipy.sparse import csr_matrix\n",
    "from scipy import sparse\n",
    "import itertools as it\n",
    "import anndata as ad\n",
    "from utils import *"
   ]
  },
  {
   "cell_type": "code",
   "execution_count": 4,
   "id": "abb89014-bf0e-4c07-92b9-04f7f25bb967",
   "metadata": {},
   "outputs": [],
   "source": [
    "FILE = \"datasets/10XGenomics/Targeted_SC3v3_Human_Glioblastoma_Neuroscience_filtered_feature_bc_matrix.h5\"\n",
    "# FILE = \"datasets/10XGenomics/Human_PBMCs_Next_GEM_Flex_GEM-X_Flex_Comparison_count_filtered_feature_bc_matrix.h5\""
   ]
  },
  {
   "cell_type": "code",
   "execution_count": 14,
   "id": "299936e6-fd32-4847-90f3-b73d21882321",
   "metadata": {},
   "outputs": [
    {
     "data": {
      "text/plain": [
       "(14690, 48228)"
      ]
     },
     "execution_count": 14,
     "metadata": {},
     "output_type": "execute_result"
    }
   ],
   "source": [
    "# adata = sc.read_10x_h5(FILE)\n",
    "adata = sc.read_mtx(\"E-GEOD-167266.aggregated_filtered_counts.mtx\")\n",
    "X = adata.X.todense()\n",
    "X.shape"
   ]
  },
  {
   "cell_type": "code",
   "execution_count": 12,
   "id": "ea4bcef8-5d40-4a5b-86ee-8f4477ac503b",
   "metadata": {},
   "outputs": [],
   "source": [
    "c = Counter(np.array(X).flatten())"
   ]
  },
  {
   "cell_type": "code",
   "execution_count": 13,
   "id": "cb2e38f8-ce4b-4831-a08f-92eeebe504bf",
   "metadata": {},
   "outputs": [
    {
     "data": {
      "text/plain": [
       "2172"
      ]
     },
     "execution_count": 13,
     "metadata": {},
     "output_type": "execute_result"
    }
   ],
   "source": [
    "sum(c[i] for i in np.array(X).flatten() if i > 488)"
   ]
  },
  {
   "cell_type": "code",
   "execution_count": 8,
   "id": "80422f53-74cd-4457-93ca-e2dbc32e319c",
   "metadata": {},
   "outputs": [
    {
     "data": {
      "text/plain": [
       "1850701"
      ]
     },
     "execution_count": 8,
     "metadata": {},
     "output_type": "execute_result"
    }
   ],
   "source": [
    "np.count_nonzero(X)"
   ]
  },
  {
   "cell_type": "code",
   "execution_count": 9,
   "id": "bf55cd2e-8cbf-4ab1-8fac-dd0041f3a2f2",
   "metadata": {},
   "outputs": [
    {
     "data": {
      "text/plain": [
       "0.005610846916924993"
      ]
     },
     "execution_count": 9,
     "metadata": {},
     "output_type": "execute_result"
    }
   ],
   "source": [
    "10384 / 1850701"
   ]
  },
  {
   "cell_type": "code",
   "execution_count": 4,
   "id": "d4665853-d23d-4d69-835b-c6e31e019420",
   "metadata": {},
   "outputs": [
    {
     "data": {
      "text/plain": [
       "matrix([[0., 0., 0., 1., 0., 0., 0., 0., 0., 0.],\n",
       "        [0., 0., 0., 0., 0., 0., 0., 0., 0., 0.],\n",
       "        [0., 0., 0., 0., 0., 0., 0., 0., 0., 0.],\n",
       "        [0., 3., 2., 4., 1., 0., 2., 5., 0., 0.],\n",
       "        [0., 0., 0., 0., 0., 0., 0., 1., 0., 0.],\n",
       "        [0., 0., 0., 0., 0., 0., 0., 0., 0., 0.],\n",
       "        [0., 0., 0., 1., 0., 0., 0., 0., 0., 1.],\n",
       "        [0., 0., 0., 0., 0., 0., 0., 0., 0., 3.],\n",
       "        [0., 0., 0., 0., 0., 0., 0., 2., 0., 0.],\n",
       "        [0., 0., 0., 0., 1., 0., 0., 0., 0., 0.]], dtype=float32)"
      ]
     },
     "execution_count": 4,
     "metadata": {},
     "output_type": "execute_result"
    }
   ],
   "source": [
    "X[:10, :10]"
   ]
  },
  {
   "cell_type": "code",
   "execution_count": 5,
   "id": "59b16adc-f8f1-4b79-a053-d4175e8ea723",
   "metadata": {},
   "outputs": [
    {
     "data": {
      "text/html": [
       "<div>\n",
       "<style scoped>\n",
       "    .dataframe tbody tr th:only-of-type {\n",
       "        vertical-align: middle;\n",
       "    }\n",
       "\n",
       "    .dataframe tbody tr th {\n",
       "        vertical-align: top;\n",
       "    }\n",
       "\n",
       "    .dataframe thead th {\n",
       "        text-align: right;\n",
       "    }\n",
       "</style>\n",
       "<table border=\"1\" class=\"dataframe\">\n",
       "  <thead>\n",
       "    <tr style=\"text-align: right;\">\n",
       "      <th></th>\n",
       "      <th>0</th>\n",
       "      <th>1</th>\n",
       "      <th>2</th>\n",
       "      <th>3</th>\n",
       "      <th>4</th>\n",
       "      <th>5</th>\n",
       "      <th>6</th>\n",
       "      <th>7</th>\n",
       "      <th>8</th>\n",
       "      <th>9</th>\n",
       "      <th>...</th>\n",
       "      <th>48218</th>\n",
       "      <th>48219</th>\n",
       "      <th>48220</th>\n",
       "      <th>48221</th>\n",
       "      <th>48222</th>\n",
       "      <th>48223</th>\n",
       "      <th>48224</th>\n",
       "      <th>48225</th>\n",
       "      <th>48226</th>\n",
       "      <th>48227</th>\n",
       "    </tr>\n",
       "  </thead>\n",
       "  <tbody>\n",
       "    <tr>\n",
       "      <th>0</th>\n",
       "      <td>0.0</td>\n",
       "      <td>0.0</td>\n",
       "      <td>0.00000</td>\n",
       "      <td>1.0</td>\n",
       "      <td>0.0</td>\n",
       "      <td>0.0</td>\n",
       "      <td>0.0</td>\n",
       "      <td>0.0</td>\n",
       "      <td>0.0</td>\n",
       "      <td>0.0</td>\n",
       "      <td>...</td>\n",
       "      <td>0.0</td>\n",
       "      <td>0.0</td>\n",
       "      <td>0.0</td>\n",
       "      <td>0.0</td>\n",
       "      <td>0.0</td>\n",
       "      <td>0.0</td>\n",
       "      <td>0.000000</td>\n",
       "      <td>0.0</td>\n",
       "      <td>0.0</td>\n",
       "      <td>0.0</td>\n",
       "    </tr>\n",
       "    <tr>\n",
       "      <th>1</th>\n",
       "      <td>0.0</td>\n",
       "      <td>0.0</td>\n",
       "      <td>0.00000</td>\n",
       "      <td>0.0</td>\n",
       "      <td>0.0</td>\n",
       "      <td>0.0</td>\n",
       "      <td>0.0</td>\n",
       "      <td>0.0</td>\n",
       "      <td>0.0</td>\n",
       "      <td>0.0</td>\n",
       "      <td>...</td>\n",
       "      <td>0.0</td>\n",
       "      <td>0.0</td>\n",
       "      <td>0.0</td>\n",
       "      <td>0.0</td>\n",
       "      <td>0.0</td>\n",
       "      <td>0.0</td>\n",
       "      <td>0.000000</td>\n",
       "      <td>0.0</td>\n",
       "      <td>0.0</td>\n",
       "      <td>0.0</td>\n",
       "    </tr>\n",
       "    <tr>\n",
       "      <th>2</th>\n",
       "      <td>0.0</td>\n",
       "      <td>0.0</td>\n",
       "      <td>0.00000</td>\n",
       "      <td>0.0</td>\n",
       "      <td>0.0</td>\n",
       "      <td>0.0</td>\n",
       "      <td>0.0</td>\n",
       "      <td>0.0</td>\n",
       "      <td>0.0</td>\n",
       "      <td>0.0</td>\n",
       "      <td>...</td>\n",
       "      <td>0.0</td>\n",
       "      <td>0.0</td>\n",
       "      <td>0.0</td>\n",
       "      <td>0.0</td>\n",
       "      <td>0.0</td>\n",
       "      <td>0.0</td>\n",
       "      <td>0.000000</td>\n",
       "      <td>0.0</td>\n",
       "      <td>0.0</td>\n",
       "      <td>0.0</td>\n",
       "    </tr>\n",
       "    <tr>\n",
       "      <th>3</th>\n",
       "      <td>0.0</td>\n",
       "      <td>3.0</td>\n",
       "      <td>2.00000</td>\n",
       "      <td>4.0</td>\n",
       "      <td>1.0</td>\n",
       "      <td>0.0</td>\n",
       "      <td>2.0</td>\n",
       "      <td>5.0</td>\n",
       "      <td>0.0</td>\n",
       "      <td>0.0</td>\n",
       "      <td>...</td>\n",
       "      <td>4.0</td>\n",
       "      <td>2.0</td>\n",
       "      <td>1.0</td>\n",
       "      <td>1.0</td>\n",
       "      <td>2.0</td>\n",
       "      <td>0.0</td>\n",
       "      <td>0.000000</td>\n",
       "      <td>0.0</td>\n",
       "      <td>1.0</td>\n",
       "      <td>3.0</td>\n",
       "    </tr>\n",
       "    <tr>\n",
       "      <th>4</th>\n",
       "      <td>0.0</td>\n",
       "      <td>0.0</td>\n",
       "      <td>0.00000</td>\n",
       "      <td>0.0</td>\n",
       "      <td>0.0</td>\n",
       "      <td>0.0</td>\n",
       "      <td>0.0</td>\n",
       "      <td>1.0</td>\n",
       "      <td>0.0</td>\n",
       "      <td>0.0</td>\n",
       "      <td>...</td>\n",
       "      <td>0.0</td>\n",
       "      <td>0.0</td>\n",
       "      <td>0.0</td>\n",
       "      <td>0.0</td>\n",
       "      <td>0.0</td>\n",
       "      <td>0.0</td>\n",
       "      <td>0.000000</td>\n",
       "      <td>0.0</td>\n",
       "      <td>0.0</td>\n",
       "      <td>0.0</td>\n",
       "    </tr>\n",
       "    <tr>\n",
       "      <th>...</th>\n",
       "      <td>...</td>\n",
       "      <td>...</td>\n",
       "      <td>...</td>\n",
       "      <td>...</td>\n",
       "      <td>...</td>\n",
       "      <td>...</td>\n",
       "      <td>...</td>\n",
       "      <td>...</td>\n",
       "      <td>...</td>\n",
       "      <td>...</td>\n",
       "      <td>...</td>\n",
       "      <td>...</td>\n",
       "      <td>...</td>\n",
       "      <td>...</td>\n",
       "      <td>...</td>\n",
       "      <td>...</td>\n",
       "      <td>...</td>\n",
       "      <td>...</td>\n",
       "      <td>...</td>\n",
       "      <td>...</td>\n",
       "      <td>...</td>\n",
       "    </tr>\n",
       "    <tr>\n",
       "      <th>14685</th>\n",
       "      <td>0.0</td>\n",
       "      <td>0.0</td>\n",
       "      <td>0.02439</td>\n",
       "      <td>0.0</td>\n",
       "      <td>0.0</td>\n",
       "      <td>0.0</td>\n",
       "      <td>0.0</td>\n",
       "      <td>0.0</td>\n",
       "      <td>0.0</td>\n",
       "      <td>0.0</td>\n",
       "      <td>...</td>\n",
       "      <td>0.0</td>\n",
       "      <td>0.0</td>\n",
       "      <td>0.0</td>\n",
       "      <td>0.0</td>\n",
       "      <td>0.0</td>\n",
       "      <td>0.0</td>\n",
       "      <td>0.088235</td>\n",
       "      <td>0.0</td>\n",
       "      <td>0.0</td>\n",
       "      <td>0.0</td>\n",
       "    </tr>\n",
       "    <tr>\n",
       "      <th>14686</th>\n",
       "      <td>0.0</td>\n",
       "      <td>0.0</td>\n",
       "      <td>0.00000</td>\n",
       "      <td>0.0</td>\n",
       "      <td>0.0</td>\n",
       "      <td>0.0</td>\n",
       "      <td>0.0</td>\n",
       "      <td>0.0</td>\n",
       "      <td>0.0</td>\n",
       "      <td>0.0</td>\n",
       "      <td>...</td>\n",
       "      <td>0.0</td>\n",
       "      <td>0.0</td>\n",
       "      <td>0.0</td>\n",
       "      <td>0.0</td>\n",
       "      <td>0.0</td>\n",
       "      <td>0.0</td>\n",
       "      <td>0.000000</td>\n",
       "      <td>0.0</td>\n",
       "      <td>0.0</td>\n",
       "      <td>0.0</td>\n",
       "    </tr>\n",
       "    <tr>\n",
       "      <th>14687</th>\n",
       "      <td>0.0</td>\n",
       "      <td>0.0</td>\n",
       "      <td>0.00000</td>\n",
       "      <td>0.0</td>\n",
       "      <td>0.0</td>\n",
       "      <td>0.0</td>\n",
       "      <td>0.0</td>\n",
       "      <td>0.0</td>\n",
       "      <td>0.0</td>\n",
       "      <td>0.0</td>\n",
       "      <td>...</td>\n",
       "      <td>0.0</td>\n",
       "      <td>0.0</td>\n",
       "      <td>0.0</td>\n",
       "      <td>0.0</td>\n",
       "      <td>0.0</td>\n",
       "      <td>0.0</td>\n",
       "      <td>0.000000</td>\n",
       "      <td>0.0</td>\n",
       "      <td>0.0</td>\n",
       "      <td>0.0</td>\n",
       "    </tr>\n",
       "    <tr>\n",
       "      <th>14688</th>\n",
       "      <td>0.0</td>\n",
       "      <td>0.0</td>\n",
       "      <td>0.00000</td>\n",
       "      <td>7.0</td>\n",
       "      <td>0.0</td>\n",
       "      <td>0.0</td>\n",
       "      <td>0.0</td>\n",
       "      <td>0.0</td>\n",
       "      <td>0.0</td>\n",
       "      <td>0.0</td>\n",
       "      <td>...</td>\n",
       "      <td>0.0</td>\n",
       "      <td>0.0</td>\n",
       "      <td>0.0</td>\n",
       "      <td>0.0</td>\n",
       "      <td>0.0</td>\n",
       "      <td>0.0</td>\n",
       "      <td>0.000000</td>\n",
       "      <td>0.0</td>\n",
       "      <td>0.0</td>\n",
       "      <td>0.0</td>\n",
       "    </tr>\n",
       "    <tr>\n",
       "      <th>14689</th>\n",
       "      <td>0.0</td>\n",
       "      <td>0.0</td>\n",
       "      <td>0.00000</td>\n",
       "      <td>0.0</td>\n",
       "      <td>0.0</td>\n",
       "      <td>0.0</td>\n",
       "      <td>0.0</td>\n",
       "      <td>0.0</td>\n",
       "      <td>0.0</td>\n",
       "      <td>0.0</td>\n",
       "      <td>...</td>\n",
       "      <td>0.0</td>\n",
       "      <td>0.0</td>\n",
       "      <td>0.0</td>\n",
       "      <td>0.0</td>\n",
       "      <td>0.0</td>\n",
       "      <td>0.0</td>\n",
       "      <td>0.000000</td>\n",
       "      <td>0.0</td>\n",
       "      <td>0.0</td>\n",
       "      <td>0.0</td>\n",
       "    </tr>\n",
       "  </tbody>\n",
       "</table>\n",
       "<p>14690 rows × 48228 columns</p>\n",
       "</div>"
      ],
      "text/plain": [
       "         0    1        2    3    4    5    6    7    8    9  ...  48218  \\\n",
       "0      0.0  0.0  0.00000  1.0  0.0  0.0  0.0  0.0  0.0  0.0  ...    0.0   \n",
       "1      0.0  0.0  0.00000  0.0  0.0  0.0  0.0  0.0  0.0  0.0  ...    0.0   \n",
       "2      0.0  0.0  0.00000  0.0  0.0  0.0  0.0  0.0  0.0  0.0  ...    0.0   \n",
       "3      0.0  3.0  2.00000  4.0  1.0  0.0  2.0  5.0  0.0  0.0  ...    4.0   \n",
       "4      0.0  0.0  0.00000  0.0  0.0  0.0  0.0  1.0  0.0  0.0  ...    0.0   \n",
       "...    ...  ...      ...  ...  ...  ...  ...  ...  ...  ...  ...    ...   \n",
       "14685  0.0  0.0  0.02439  0.0  0.0  0.0  0.0  0.0  0.0  0.0  ...    0.0   \n",
       "14686  0.0  0.0  0.00000  0.0  0.0  0.0  0.0  0.0  0.0  0.0  ...    0.0   \n",
       "14687  0.0  0.0  0.00000  0.0  0.0  0.0  0.0  0.0  0.0  0.0  ...    0.0   \n",
       "14688  0.0  0.0  0.00000  7.0  0.0  0.0  0.0  0.0  0.0  0.0  ...    0.0   \n",
       "14689  0.0  0.0  0.00000  0.0  0.0  0.0  0.0  0.0  0.0  0.0  ...    0.0   \n",
       "\n",
       "       48219  48220  48221  48222  48223     48224  48225  48226  48227  \n",
       "0        0.0    0.0    0.0    0.0    0.0  0.000000    0.0    0.0    0.0  \n",
       "1        0.0    0.0    0.0    0.0    0.0  0.000000    0.0    0.0    0.0  \n",
       "2        0.0    0.0    0.0    0.0    0.0  0.000000    0.0    0.0    0.0  \n",
       "3        2.0    1.0    1.0    2.0    0.0  0.000000    0.0    1.0    3.0  \n",
       "4        0.0    0.0    0.0    0.0    0.0  0.000000    0.0    0.0    0.0  \n",
       "...      ...    ...    ...    ...    ...       ...    ...    ...    ...  \n",
       "14685    0.0    0.0    0.0    0.0    0.0  0.088235    0.0    0.0    0.0  \n",
       "14686    0.0    0.0    0.0    0.0    0.0  0.000000    0.0    0.0    0.0  \n",
       "14687    0.0    0.0    0.0    0.0    0.0  0.000000    0.0    0.0    0.0  \n",
       "14688    0.0    0.0    0.0    0.0    0.0  0.000000    0.0    0.0    0.0  \n",
       "14689    0.0    0.0    0.0    0.0    0.0  0.000000    0.0    0.0    0.0  \n",
       "\n",
       "[14690 rows x 48228 columns]"
      ]
     },
     "execution_count": 5,
     "metadata": {},
     "output_type": "execute_result"
    }
   ],
   "source": [
    "adata.to_df()\n"
   ]
  },
  {
   "cell_type": "code",
   "execution_count": 4,
   "id": "0b4a09ad-d2ff-47cd-9277-83fab6aae0a2",
   "metadata": {},
   "outputs": [],
   "source": [
    "B = lambda i: len(bin(i)) - 2\n",
    "def cell(X, i):\n",
    "    return np.array(X[i, :]).flatten()"
   ]
  },
  {
   "cell_type": "code",
   "execution_count": 5,
   "id": "129a1ddf-8764-435d-b92d-04a0067bdab0",
   "metadata": {},
   "outputs": [],
   "source": [
    "def write_bytes(handle, bits, bytes=4):\n",
    "    handle.write(int(bits[::-1], 2).to_bytes(bytes, 'little'))\n",
    "    return bytes * 4\n",
    "\n",
    "def write_int(handle, value, bytes=4):\n",
    "    handle.write(value.to_bytes(bytes, 'little'))\n",
    "    return bytes * 4\n",
    "\n",
    "def write_array(handle, array):\n",
    "    if not array:\n",
    "        write_int(handle, 0)\n",
    "        return 32\n",
    "    bits = len(bin(int(max(array)))) - 2\n",
    "    write_int(handle, len(array))\n",
    "    write_int(handle, bits)\n",
    "\n",
    "    # print(len(array), bits, (len(array) * 23) - (len(array) * bits + 2 * 32 * 8))\n",
    "    curr_str = \"\"\n",
    "    for elem in array:\n",
    "        s = bin(int(elem))[2:].zfill(bits)\n",
    "        for char in s:\n",
    "            curr_str += char\n",
    "            if len(curr_str) == 32:\n",
    "                write_bytes(handle, curr_str)\n",
    "                curr_str = \"\"\n",
    "    if curr_str:\n",
    "        write_bytes(handle, curr_str)\n",
    "\n",
    "    return len(array) * bits + 2 * 32 * 8\n",
    "\n",
    "def write_arrays(handle, arrays):\n",
    "    total = write_int(handle, len(arrays))\n",
    "    for array in arrays:\n",
    "        total += write_array(handle, array)\n",
    "    return total"
   ]
  },
  {
   "cell_type": "code",
   "execution_count": 18,
   "id": "51404fdb-c270-423f-9b4c-9afe0b9d9f34",
   "metadata": {},
   "outputs": [],
   "source": [
    "B = lambda i: len(bin(int(i))) - 2\n",
    "\n",
    "def chop(bins, chop, testdrive=True):\n",
    "    n = 0\n",
    "    out = []\n",
    "    curr = []\n",
    "    chopping = False\n",
    "    for i in bins:\n",
    "        if (i >= chop and not chopping) or (i < chop and chopping):\n",
    "            if curr:\n",
    "                n += len(curr) * max(curr) + 2 * 32 * 8 # add space for writing bitsize and length of array\n",
    "                out.append(len(curr))\n",
    "                curr = []\n",
    "                chopping = not chopping\n",
    "        curr.append(i)\n",
    "    if curr:\n",
    "        out.append(len(curr))\n",
    "        n += len(curr) * max(curr) + 2 * 32 * 8 # add space for writing bitsize and length of array\n",
    "    return n if testdrive else out\n",
    "\n",
    "def unchop(chopped):\n",
    "    return [i for j in chopped for i in j]\n",
    "\n",
    "def do_chop(array, chops):\n",
    "    out = []\n",
    "    i = 0\n",
    "    for k in chops:\n",
    "        curr = []\n",
    "        for _ in range(k):\n",
    "            curr.append(array[i])\n",
    "            i += 1\n",
    "        out.append(curr)\n",
    "    return out\n",
    "\n",
    "def optimal_chop(array):\n",
    "    bins = list(map(B, array))\n",
    "    m = max(bins) + 1\n",
    "    last_chop = chop(bins, m)\n",
    "    while True:\n",
    "        test_chop = chop(bins, m - 1)\n",
    "        if test_chop < last_chop:\n",
    "            last_chop = test_chop\n",
    "            m -= 1\n",
    "        else:\n",
    "            break\n",
    "    \n",
    "    return do_chop(array, chop(bins, m, testdrive=False))"
   ]
  },
  {
   "cell_type": "code",
   "execution_count": 21,
   "id": "56e6d5da-d947-4668-b67b-f59f8276db27",
   "metadata": {},
   "outputs": [],
   "source": [
    "def flat_to_square(val, ncols):\n",
    "    return (val // ncols, val % ncols)\n",
    "\n",
    "def squarify_indices(arr, shape):\n",
    "    R, C = shape\n",
    "    coldiffs = []\n",
    "    rowchanges = []\n",
    "    current_col = 0\n",
    "    current_row = 0\n",
    "    # print(arr[:100])\n",
    "    for element in arr:#[:100]:\n",
    "        row, col = flat_to_square(element, C)\n",
    "        # print([row, col], end=' ')\n",
    "        if row > current_row:\n",
    "            coldiffs.append(col)\n",
    "            rowchanges.append(row - current_row)\n",
    "        else:\n",
    "            coldiffs.append(col - current_col)\n",
    "            rowchanges.append(0)\n",
    "        current_col, current_row = col, row\n",
    "    # print(coldiffs[:100], rowchanges[:100])\n",
    "    # print(R, C)\n",
    "    # input()\n",
    "    return coldiffs, rowchanges\n",
    "\n",
    "def consecutivize(X, handle, depth=1):\n",
    "    ncells = X.shape[0]\n",
    "    cells = []\n",
    "    for i in tqdm.trange(ncells):\n",
    "        cells.append(cell(X, i))\n",
    "\n",
    "    c = Counter(np.array(cells).flatten())\n",
    "    del c[0]\n",
    "\n",
    "    N = np.array(X).flatten().shape[0]\n",
    "    O = c[1]\n",
    "    \n",
    "    i = min(c)\n",
    "    body = []\n",
    "    while i in c:\n",
    "        body.append(c[i])\n",
    "        i += 1\n",
    "        if i == 0:\n",
    "            i += 1\n",
    "    K = i - 1\n",
    "    \n",
    "    T = 0\n",
    "    T1 = []\n",
    "    T2 = []\n",
    "    M = int(max(c))\n",
    "    for j in tqdm.trange(int(i), M + 1):\n",
    "        if j not in c:\n",
    "            continue\n",
    "        T += 1\n",
    "        T1.append(j)\n",
    "        T2.append(c[j])\n",
    "\n",
    "    if T2:\n",
    "        S = max(T2)\n",
    "    Xf = np.array(cells).flatten()\n",
    "    d = defaultdict(list)\n",
    "    for a, b in tqdm.tqdm(enumerate(Xf)):\n",
    "        d[b].append(a)\n",
    "\n",
    "    e = {}\n",
    "    for k, v in tqdm.tqdm(d.items()):\n",
    "        if v:\n",
    "            diffs = [v[0]] + [v[i + 1] - v[i] for i in range(len(v) - 1)]\n",
    "            if k < 10:\n",
    "                e[k] = optimal_chop(diffs)\n",
    "            else:\n",
    "                e[k] = diffs\n",
    "            # e[k] = squarify_indices(v, X.shape)\n",
    "    e = {k: v for k, v in e.items() if k in range(1, 101)}\n",
    "\n",
    "    R = []\n",
    "    for i in tqdm.trange(101, M + 1):\n",
    "        if i in d:\n",
    "            for j in d[i]:\n",
    "                R.append(j)\n",
    "    \n",
    "    total = 0\n",
    "    total += write_int(handle, X.shape[1])\n",
    "    for i in range(1, 10):\n",
    "        if i in e:\n",
    "            total += write_arrays(handle, e[i])\n",
    "    for i in range(10, 101):\n",
    "        if i in e:\n",
    "            total += write_array(handle, e[i])\n",
    "    total += write_array(handle, R)\n",
    "    total += write_array(handle, body)\n",
    "    total += write_array(handle, T1)\n",
    "    total += write_array(handle, T2)\n",
    "\n",
    "    return d, e, R, total\n",
    "    # return total\n",
    "# d, e, R, total = consecutivize(X, open(\"f3_0.conq\", \"wb\"))\n",
    "# total\n",
    "# sizes = {}\n",
    "# for i in tqdm.trange(3, 127):\n",
    "#     adata_cut = ad.AnnData(reclassify(sc.read_10x_h5(FILE).X.todense(), i))\n",
    "#     X = adata_cut.X\n",
    "#     d, e, R, total = consecutivize(X, open(\"f2_7.conq\", \"wb\"))\n",
    "#     # total\n",
    "#     sizes[i] = total\n",
    "# d, e, R, total = consecutivize(X, open(\"Human_PBMCs_Next_GEM_Flex_GEM-X_Flex_Comparison_count_filtered_feature_bc_matrix.conq\", \"wb\"))\n",
    "# total"
   ]
  },
  {
   "cell_type": "code",
   "execution_count": 8,
   "id": "5dcd89ec-e770-4788-b2d9-4c6e6d0ca023",
   "metadata": {},
   "outputs": [
    {
     "data": {
      "text/plain": [
       "891038391"
      ]
     },
     "execution_count": 8,
     "metadata": {},
     "output_type": "execute_result"
    }
   ],
   "source": [
    "total"
   ]
  },
  {
   "cell_type": "code",
   "execution_count": 35,
   "id": "8ac39046-f7e4-4461-9b3e-f712975dc661",
   "metadata": {},
   "outputs": [
    {
     "data": {
      "text/plain": [
       "{3: 12104423,\n",
       " 4: 12118692,\n",
       " 5: 12134139,\n",
       " 6: 12151637,\n",
       " 7: 12172489,\n",
       " 8: 12191549,\n",
       " 9: 12209856,\n",
       " 10: 12226891,\n",
       " 11: 12248095,\n",
       " 12: 12265458,\n",
       " 13: 12289570,\n",
       " 14: 12305494,\n",
       " 15: 12327607,\n",
       " 16: 12351563,\n",
       " 17: 12372126,\n",
       " 18: 12392815,\n",
       " 19: 12415016,\n",
       " 20: 12430919,\n",
       " 21: 12454432,\n",
       " 22: 12472181,\n",
       " 23: 12489351,\n",
       " 24: 12498431,\n",
       " 25: 12520157,\n",
       " 26: 12529006,\n",
       " 27: 12555459,\n",
       " 28: 12572128,\n",
       " 29: 12586165,\n",
       " 30: 12600916,\n",
       " 31: 12617937,\n",
       " 32: 12635903,\n",
       " 33: 12655812,\n",
       " 34: 12679103,\n",
       " 35: 12703729,\n",
       " 36: 12703729,\n",
       " 37: 12729386,\n",
       " 38: 12753135,\n",
       " 39: 12753135,\n",
       " 40: 12783518,\n",
       " 41: 12815865,\n",
       " 42: 12815865,\n",
       " 43: 12852892,\n",
       " 44: 12852892,\n",
       " 45: 12886004,\n",
       " 46: 12886004,\n",
       " 47: 12886004,\n",
       " 48: 12936076,\n",
       " 49: 12936076,\n",
       " 50: 12979656,\n",
       " 51: 12979656,\n",
       " 52: 12979656,\n",
       " 53: 13016957,\n",
       " 54: 13016957,\n",
       " 55: 13016957,\n",
       " 56: 13058038,\n",
       " 57: 13058038,\n",
       " 58: 13058038,\n",
       " 59: 13108937,\n",
       " 60: 13108937,\n",
       " 61: 13108937,\n",
       " 62: 13108937,\n",
       " 63: 13168883,\n",
       " 64: 13168883,\n",
       " 65: 13168883,\n",
       " 66: 13168883,\n",
       " 67: 13168883,\n",
       " 68: 13219422,\n",
       " 69: 13219422,\n",
       " 70: 13219422,\n",
       " 71: 13219422,\n",
       " 72: 13219422,\n",
       " 73: 13301497,\n",
       " 74: 13301497,\n",
       " 75: 13301497,\n",
       " 76: 13301497,\n",
       " 77: 13301497,\n",
       " 78: 13301497,\n",
       " 79: 13388799,\n",
       " 80: 13388799,\n",
       " 81: 13388799,\n",
       " 82: 13388799,\n",
       " 83: 13388799,\n",
       " 84: 13388799,\n",
       " 85: 13388799,\n",
       " 86: 13500235,\n",
       " 87: 13500235,\n",
       " 88: 13500235,\n",
       " 89: 13500235,\n",
       " 90: 13500235,\n",
       " 91: 13500235,\n",
       " 92: 13500235,\n",
       " 93: 13500235,\n",
       " 94: 13500235,\n",
       " 95: 13618779,\n",
       " 96: 13618779,\n",
       " 97: 13618779,\n",
       " 98: 13618779,\n",
       " 99: 13618779,\n",
       " 100: 13618779,\n",
       " 101: 13618779,\n",
       " 102: 13618779,\n",
       " 103: 13618779,\n",
       " 104: 13618779,\n",
       " 105: 13768920,\n",
       " 106: 13768920,\n",
       " 107: 13768920,\n",
       " 108: 13768920,\n",
       " 109: 13768920,\n",
       " 110: 13768920,\n",
       " 111: 13768920,\n",
       " 112: 13768920,\n",
       " 113: 13768920,\n",
       " 114: 13768920,\n",
       " 115: 13768920,\n",
       " 116: 13768920,\n",
       " 117: 13768920,\n",
       " 118: 13920405,\n",
       " 119: 13920405,\n",
       " 120: 13920405,\n",
       " 121: 13920405,\n",
       " 122: 13920405,\n",
       " 123: 13920405,\n",
       " 124: 13920405,\n",
       " 125: 13920405,\n",
       " 126: 13920405}"
      ]
     },
     "execution_count": 35,
     "metadata": {},
     "output_type": "execute_result"
    }
   ],
   "source": [
    "sizes"
   ]
  },
  {
   "cell_type": "code",
   "execution_count": 15,
   "id": "6b6ea18c-3792-4146-92cc-fd994d885e17",
   "metadata": {},
   "outputs": [
    {
     "data": {
      "text/plain": [
       "[<matplotlib.lines.Line2D at 0xc9daab5f0>]"
      ]
     },
     "execution_count": 15,
     "metadata": {},
     "output_type": "execute_result"
    },
    {
     "data": {
      "image/png": "[encoded data removed]",
      "text/plain": [
       "<Figure size 640x480 with 1 Axes>"
      ]
     },
     "metadata": {},
     "output_type": "display_data"
    }
   ],
   "source": [
    "plt.plot(sizes.keys(), sizes.values())"
   ]
  },
  {
   "cell_type": "code",
   "execution_count": 16,
   "id": "393d1b5a-ccca-48ab-8a36-e872bbf58822",
   "metadata": {},
   "outputs": [],
   "source": [
    "def read_bytes(handle, bytes=4):\n",
    "    byte_data = handle.read(bytes)\n",
    "    value = int.from_bytes(byte_data, 'little')\n",
    "    return bin(value)[2:].zfill(32)[::-1]\n",
    "\n",
    "def read_int(handle, bytes=4):\n",
    "    return int.from_bytes(handle.read(bytes), 'little')\n",
    "\n",
    "def read_array(handle):\n",
    "    array_length = read_int(handle)\n",
    "    bits = read_int(handle)\n",
    "    \n",
    "    array = []\n",
    "    curr_str = \"\"\n",
    "    remaining_bits = array_length * bits\n",
    "    \n",
    "    while remaining_bits > 0:\n",
    "        chunk = read_bytes(handle)\n",
    "        if chunk is None:\n",
    "            break\n",
    "        curr_str += chunk\n",
    "        \n",
    "        while len(curr_str) >= bits and len(array) < array_length:\n",
    "            element_bits = curr_str[:bits]\n",
    "            curr_str = curr_str[bits:]\n",
    "            array.append(int(element_bits, 2))\n",
    "            remaining_bits -= bits\n",
    "\n",
    "    return array\n",
    "\n",
    "def read_arrays(handle):\n",
    "    count = read_int(handle)\n",
    "    out = []\n",
    "    for _ in range(count):\n",
    "        out.append(read_array(handle))\n",
    "    return out"
   ]
  },
  {
   "cell_type": "code",
   "execution_count": 22,
   "id": "f6c077ac-e410-48ea-92c3-860134358898",
   "metadata": {},
   "outputs": [
    {
     "ename": "IndexError",
     "evalue": "list index out of range",
     "output_type": "error",
     "traceback": [
      "\u001b[0;31m---------------------------------------------------------------------------\u001b[0m",
      "\u001b[0;31mIndexError\u001b[0m                                Traceback (most recent call last)",
      "Cell \u001b[0;32mIn[22], line 57\u001b[0m\n\u001b[1;32m     55\u001b[0m \u001b[38;5;28;01mimport\u001b[39;00m \u001b[38;5;21;01mtime\u001b[39;00m\n\u001b[1;32m     56\u001b[0m t \u001b[38;5;241m=\u001b[39m time\u001b[38;5;241m.\u001b[39mtime()\n\u001b[0;32m---> 57\u001b[0m a \u001b[38;5;241m=\u001b[39m \u001b[43mconq_to_csr\u001b[49m\u001b[43m(\u001b[49m\u001b[38;5;28;43mopen\u001b[39;49m\u001b[43m(\u001b[49m\u001b[38;5;124;43m\"\u001b[39;49m\u001b[38;5;124;43mf3_0.conq\u001b[39;49m\u001b[38;5;124;43m\"\u001b[39;49m\u001b[43m,\u001b[49m\u001b[43m \u001b[49m\u001b[38;5;124;43m\"\u001b[39;49m\u001b[38;5;124;43mrb\u001b[39;49m\u001b[38;5;124;43m\"\u001b[39;49m\u001b[43m)\u001b[49m\u001b[43m,\u001b[49m\u001b[43m \u001b[49m\u001b[43mdepth\u001b[49m\u001b[38;5;241;43m=\u001b[39;49m\u001b[38;5;241;43m0\u001b[39;49m\u001b[43m)\u001b[49m\n\u001b[1;32m     58\u001b[0m a, time\u001b[38;5;241m.\u001b[39mtime() \u001b[38;5;241m-\u001b[39m t\n",
      "Cell \u001b[0;32mIn[22], line 47\u001b[0m, in \u001b[0;36mconq_to_csr\u001b[0;34m(handle, depth)\u001b[0m\n\u001b[1;32m     45\u001b[0m \u001b[38;5;28;01mfor\u001b[39;00m n, m \u001b[38;5;129;01min\u001b[39;00m \u001b[38;5;28mzip\u001b[39m(T1, T2):\n\u001b[1;32m     46\u001b[0m     \u001b[38;5;28;01mfor\u001b[39;00m _ \u001b[38;5;129;01min\u001b[39;00m \u001b[38;5;28mrange\u001b[39m(m):\n\u001b[0;32m---> 47\u001b[0m         row, col \u001b[38;5;241m=\u001b[39m flat_to_square(\u001b[43mR\u001b[49m\u001b[43m[\u001b[49m\u001b[43mi\u001b[49m\u001b[43m]\u001b[49m, ncols)\n\u001b[1;32m     48\u001b[0m         data\u001b[38;5;241m.\u001b[39mappend(n)\n\u001b[1;32m     49\u001b[0m         rows\u001b[38;5;241m.\u001b[39mappend(row)\n",
      "\u001b[0;31mIndexError\u001b[0m: list index out of range"
     ]
    }
   ],
   "source": [
    "def conq_to_csr(handle, depth=1):\n",
    "    ncols = read_int(handle)\n",
    "    e = {}\n",
    "    for i in range(1, 10):\n",
    "        e[i] = unchop(read_arrays(handle))\n",
    "    for i in range(10, 101):\n",
    "        e[i] = read_array(handle)\n",
    "    R = read_array(handle)\n",
    "    body = read_array(handle)\n",
    "    T1 = read_array(handle)\n",
    "    T2 = read_array(handle)\n",
    "\n",
    "    rows = []\n",
    "    cols = []\n",
    "    data = []\n",
    "\n",
    "    for k, v in e.items():\n",
    "        c = 0\n",
    "        row = 0\n",
    "        col = 0\n",
    "        for i in v:\n",
    "            c += i\n",
    "            data.append(k)\n",
    "            row, col = flat_to_square(c, ncols)\n",
    "            rows.append(row)\n",
    "            cols.append(col)\n",
    "        # for i, j in zip(*v):\n",
    "        #     if j:\n",
    "        #         row += 1\n",
    "        #         col = 0\n",
    "        #     col += i\n",
    "        #     data.append(k)\n",
    "        #     rows.append(row)\n",
    "        #     cols.append(col)\n",
    "\n",
    "    i = 0\n",
    "    for v, n in enumerate(body[100:], start=101):\n",
    "        for _ in range(n):\n",
    "            row, col = flat_to_square(R[i], ncols)\n",
    "            data.append(v)\n",
    "            rows.append(row)\n",
    "            cols.append(col)\n",
    "            i += 1\n",
    "\n",
    "    for n, m in zip(T1, T2):\n",
    "        for _ in range(m):\n",
    "            row, col = flat_to_square(R[i], ncols)\n",
    "            data.append(n)\n",
    "            rows.append(row)\n",
    "            cols.append(col)\n",
    "            i += 1        \n",
    "    \n",
    "    return csr_matrix((data, (rows, cols)))\n",
    "\n",
    "import time\n",
    "t = time.time()\n",
    "a = conq_to_csr(open(\"f3_0.conq\", \"rb\"), depth=0)\n",
    "a, time.time() - t"
   ]
  },
  {
   "cell_type": "code",
   "execution_count": 23,
   "id": "c2f2b7a1-f3dd-49b4-a518-fe390b4e82ed",
   "metadata": {},
   "outputs": [
    {
     "data": {
      "text/plain": [
       "55.25150799751282"
      ]
     },
     "execution_count": 23,
     "metadata": {},
     "output_type": "execute_result"
    }
   ],
   "source": [
    "time.time() - t"
   ]
  },
  {
   "cell_type": "code",
   "execution_count": 11,
   "id": "525073c1-9d81-4a5a-a68e-1c967a112f46",
   "metadata": {},
   "outputs": [
    {
     "data": {
      "text/plain": [
       "<5697x1186 sparse matrix of type '<class 'numpy.float32'>'\n",
       "\twith 1850701 stored elements in Compressed Sparse Row format>"
      ]
     },
     "execution_count": 11,
     "metadata": {},
     "output_type": "execute_result"
    }
   ],
   "source": [
    "b = csr_matrix(X)\n",
    "b"
   ]
  },
  {
   "cell_type": "code",
   "execution_count": 12,
   "id": "fcf53acc-9418-40d2-a3fb-f961de32763c",
   "metadata": {},
   "outputs": [
    {
     "data": {
      "text/plain": [
       "<5697x1186 sparse matrix of type '<class 'numpy.bool_'>'\n",
       "\twith 0 stored elements in Compressed Sparse Row format>"
      ]
     },
     "execution_count": 12,
     "metadata": {},
     "output_type": "execute_result"
    }
   ],
   "source": [
    "a != b"
   ]
  },
  {
   "cell_type": "code",
   "execution_count": 13,
   "id": "a7bc058c-e28b-4092-b132-8570bce53c83",
   "metadata": {},
   "outputs": [
    {
     "ename": "TypeError",
     "evalue": "'>=' not supported between instances of 'list' and 'int'",
     "output_type": "error",
     "traceback": [
      "\u001b[0;31m---------------------------------------------------------------------------\u001b[0m",
      "\u001b[0;31mTypeError\u001b[0m                                 Traceback (most recent call last)",
      "Cell \u001b[0;32mIn[13], line 1\u001b[0m\n\u001b[0;32m----> 1\u001b[0m \u001b[38;5;28;43msum\u001b[39;49m\u001b[43m(\u001b[49m\u001b[38;5;241;43m1\u001b[39;49m\u001b[43m \u001b[49m\u001b[38;5;28;43;01mfor\u001b[39;49;00m\u001b[43m \u001b[49m\u001b[43mi\u001b[49m\u001b[43m \u001b[49m\u001b[38;5;129;43;01min\u001b[39;49;00m\u001b[43m \u001b[49m\u001b[43me\u001b[49m\u001b[43m[\u001b[49m\u001b[38;5;241;43m1\u001b[39;49m\u001b[43m]\u001b[49m\u001b[43m \u001b[49m\u001b[38;5;28;43;01mif\u001b[39;49;00m\u001b[43m \u001b[49m\u001b[43mi\u001b[49m\u001b[43m \u001b[49m\u001b[38;5;241;43m>\u001b[39;49m\u001b[38;5;241;43m=\u001b[39;49m\u001b[43m \u001b[49m\u001b[38;5;241;43m128\u001b[39;49m\u001b[43m)\u001b[49m\n",
      "Cell \u001b[0;32mIn[13], line 1\u001b[0m, in \u001b[0;36m<genexpr>\u001b[0;34m(.0)\u001b[0m\n\u001b[0;32m----> 1\u001b[0m \u001b[38;5;28msum\u001b[39m(\u001b[38;5;241m1\u001b[39m \u001b[38;5;28;01mfor\u001b[39;00m i \u001b[38;5;129;01min\u001b[39;00m e[\u001b[38;5;241m1\u001b[39m] \u001b[38;5;28;01mif\u001b[39;00m \u001b[43mi\u001b[49m\u001b[43m \u001b[49m\u001b[38;5;241;43m>\u001b[39;49m\u001b[38;5;241;43m=\u001b[39;49m\u001b[43m \u001b[49m\u001b[38;5;241;43m128\u001b[39;49m)\n",
      "\u001b[0;31mTypeError\u001b[0m: '>=' not supported between instances of 'list' and 'int'"
     ]
    }
   ],
   "source": [
    "sum(1 for i in e[1] if i >= 128)"
   ]
  },
  {
   "cell_type": "code",
   "execution_count": null,
   "id": "ba877ae0-4305-4f98-9896-c46f7ff2c4a3",
   "metadata": {},
   "outputs": [],
   "source": []
  },
  {
   "cell_type": "code",
   "execution_count": null,
   "id": "18d656a4-d300-41c9-9aef-c528ed221841",
   "metadata": {},
   "outputs": [],
   "source": [
    "B = lambda i: len(bin(int(i))) - 2\n",
    "bins = list(map(B, e[2]))"
   ]
  },
  {
   "cell_type": "code",
   "execution_count": null,
   "id": "97c4df70-f533-4d60-83c4-5319b979ebd5",
   "metadata": {},
   "outputs": [],
   "source": [
    "max(bins)"
   ]
  },
  {
   "cell_type": "code",
   "execution_count": null,
   "id": "e0696540-2914-4f85-9493-f97aabbd055f",
   "metadata": {},
   "outputs": [],
   "source": []
  },
  {
   "cell_type": "code",
   "execution_count": null,
   "id": "0613aa51-b8bc-4c09-b237-342b585c0caf",
   "metadata": {},
   "outputs": [],
   "source": [
    "count_size(bins, 5)"
   ]
  },
  {
   "cell_type": "code",
   "execution_count": 1,
   "id": "3ed383a6-c28c-4ef2-bcf3-e789e346fb0d",
   "metadata": {},
   "outputs": [],
   "source": [
    "from utils import *"
   ]
  },
  {
   "cell_type": "code",
   "execution_count": 11,
   "id": "bed2401b-a7b3-4af4-be30-87a9e16311a3",
   "metadata": {},
   "outputs": [
    {
     "name": "stderr",
     "output_type": "stream",
     "text": [
      "/Users/simonchervenak/Documents/GitHub/CoNQuiStAdoRES/conq/lib/python3.12/site-packages/anndata/_core/anndata.py:1758: UserWarning: Variable names are not unique. To make them unique, call `.var_names_make_unique`.\n",
      "  utils.warn_names_duplicates(\"var\")\n",
      "/Users/simonchervenak/Documents/GitHub/CoNQuiStAdoRES/conq/lib/python3.12/site-packages/anndata/_core/anndata.py:1758: UserWarning: Variable names are not unique. To make them unique, call `.var_names_make_unique`.\n",
      "  utils.warn_names_duplicates(\"var\")\n"
     ]
    }
   ],
   "source": [
    "adata_cut = ad.AnnData(reclassify(sc.read_10x_h5(FILE).X.todense(), 7))\n",
    "X = adata_cut.X"
   ]
  },
  {
   "cell_type": "code",
   "execution_count": 16,
   "id": "dea6bc39-c430-469b-8eb6-c5c8da804843",
   "metadata": {},
   "outputs": [
    {
     "name": "stderr",
     "output_type": "stream",
     "text": [
      "100%|██████████████████████████████████████████████████████████████████████████████████████████████████████████████████████████████████████████████████████████████████████████████████████████████████████████████████████████████████████████████| 5697/5697 [00:00<00:00, 281262.65it/s]\n",
      "0it [00:00, ?it/s]\n"
     ]
    },
    {
     "ename": "UnboundLocalError",
     "evalue": "cannot access local variable 'd' where it is not associated with a value",
     "output_type": "error",
     "traceback": [
      "\u001b[31m---------------------------------------------------------------------------\u001b[39m",
      "\u001b[31mUnboundLocalError\u001b[39m                         Traceback (most recent call last)",
      "\u001b[36mCell\u001b[39m\u001b[36m \u001b[39m\u001b[32mIn[16]\u001b[39m\u001b[32m, line 1\u001b[39m\n\u001b[32m----> \u001b[39m\u001b[32m1\u001b[39m d, e, R, total = \u001b[43mconsecutivize\u001b[49m\u001b[43m(\u001b[49m\u001b[43mX\u001b[49m\u001b[43m,\u001b[49m\u001b[43m \u001b[49m\u001b[38;5;28;43mopen\u001b[39;49m\u001b[43m(\u001b[49m\u001b[33;43m\"\u001b[39;49m\u001b[33;43mf1_7.conq\u001b[39;49m\u001b[33;43m\"\u001b[39;49m\u001b[43m,\u001b[49m\u001b[43m \u001b[49m\u001b[33;43m\"\u001b[39;49m\u001b[33;43mwb\u001b[39;49m\u001b[33;43m\"\u001b[39;49m\u001b[43m)\u001b[49m\u001b[43m)\u001b[49m\n\u001b[32m      2\u001b[39m total\n",
      "\u001b[36mCell\u001b[39m\u001b[36m \u001b[39m\u001b[32mIn[15]\u001b[39m\u001b[32m, line 66\u001b[39m, in \u001b[36mconsecutivize\u001b[39m\u001b[34m(X, handle, depth)\u001b[39m\n\u001b[32m     63\u001b[39m         d[b].append(a)\n\u001b[32m     65\u001b[39m e = {}\n\u001b[32m---> \u001b[39m\u001b[32m66\u001b[39m \u001b[38;5;28;01mfor\u001b[39;00m k, v \u001b[38;5;129;01min\u001b[39;00m tqdm.tqdm(\u001b[43md\u001b[49m.items()):\n\u001b[32m     67\u001b[39m     \u001b[38;5;28;01mif\u001b[39;00m v:\n\u001b[32m     68\u001b[39m         diffs = [v[\u001b[32m0\u001b[39m]] + [v[i + \u001b[32m1\u001b[39m] - v[i] \u001b[38;5;28;01mfor\u001b[39;00m i \u001b[38;5;129;01min\u001b[39;00m \u001b[38;5;28mrange\u001b[39m(\u001b[38;5;28mlen\u001b[39m(v) - \u001b[32m1\u001b[39m)]\n",
      "\u001b[31mUnboundLocalError\u001b[39m: cannot access local variable 'd' where it is not associated with a value"
     ]
    }
   ],
   "source": [
    "d, e, R, total = consecutivize(X, open(\"f1_7.conq\", \"wb\"))\n",
    "total"
   ]
  }
 ],
 "metadata": {
  "kernelspec": {
   "display_name": "Python 3 (ipykernel)",
   "language": "python",
   "name": "python3"
  },
  "language_info": {
   "codemirror_mode": {
    "name": "ipython",
    "version": 3
   },
   "file_extension": ".py",
   "mimetype": "text/x-python",
   "name": "python",
   "nbconvert_exporter": "python",
   "pygments_lexer": "ipython3",
   "version": "3.12.0"
  }
 },
 "nbformat": 4,
 "nbformat_minor": 5
}
