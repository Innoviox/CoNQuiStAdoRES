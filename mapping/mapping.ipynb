{
 "cells": [
  {
   "cell_type": "code",
   "execution_count": 3,
   "id": "386d730a-356f-4d59-a3e4-e6e18dc86fde",
   "metadata": {},
   "outputs": [
    {
     "name": "stdout",
     "output_type": "stream",
     "text": [
      "MT_human\t100\t200\t100M\n"
     ]
    }
   ],
   "source": [
    "import mappy as mp\n",
    "a = mp.Aligner(\"test/MT-human.fa\")  # load or build index\n",
    "s = a.seq(\"MT_human\", 100, 200)     # retrieve a subsequence from the index\n",
    "\n",
    "for hit in a.map(s):\n",
    "    print(\"{}\\t{}\\t{}\\t{}\".format(hit.ctg, hit.r_st, hit.r_en, hit.cigar_str))\n",
    "\n",
    "# print(mp.revcomp(s))                # reverse complement\n",
    "# for name, seq, qual in mp.fastx_read(\"test/MT-orang.fa\"): # read a fasta/q sequence\n",
    "#         for hit in a.map(seq): # traverse alignments\n",
    "#                 print(\"{}\\t{}\\t{}\\t{}\".format(hit.ctg, hit.r_st, hit.r_en, hit.cigar_str))\n"
   ]
  },
  {
   "cell_type": "code",
   "execution_count": null,
   "id": "9fdaf2bb-2871-4cfe-a6eb-ee7b415ee6e6",
   "metadata": {},
   "outputs": [],
   "source": []
  }
 ],
 "metadata": {
  "kernelspec": {
   "display_name": "Python 3 (ipykernel)",
   "language": "python",
   "name": "python3"
  },
  "language_info": {
   "codemirror_mode": {
    "name": "ipython",
    "version": 3
   },
   "file_extension": ".py",
   "mimetype": "text/x-python",
   "name": "python",
   "nbconvert_exporter": "python",
   "pygments_lexer": "ipython3",
   "version": "3.12.0"
  }
 },
 "nbformat": 4,
 "nbformat_minor": 5
}
