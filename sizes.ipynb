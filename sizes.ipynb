{
 "cells": [
  {
   "cell_type": "code",
   "execution_count": 1,
   "id": "e213db40-25a0-488a-b99f-d98b18c625df",
   "metadata": {},
   "outputs": [],
   "source": [
    "import h5py\n",
    "import pandas as pd\n",
    "import os\n",
    "import gzip\n",
    "import scipy.sparse as sparse\n",
    "import numpy as np\n",
    "import scanpy as sc\n",
    "import anndata\n",
    "from scipy.io import mmwrite\n",
    "import time"
   ]
  },
  {
   "cell_type": "code",
   "execution_count": 2,
   "id": "93edc129-2aea-47dc-a292-b03aea5397e4",
   "metadata": {},
   "outputs": [],
   "source": [
    "FILE = \"datasets/10XGenomics/Targeted_SC3v3_Human_Glioblastoma_Neuroscience_filtered_feature_bc_matrix.h5\""
   ]
  },
  {
   "cell_type": "code",
   "execution_count": 3,
   "id": "26b043e6-03ab-4476-86b9-51d5b1378ac6",
   "metadata": {},
   "outputs": [],
   "source": [
    "def get_sizes(filename):\n",
    "    size = os.path.getsize(filename)\n",
    "    with open(filename, 'rb') as f_in:\n",
    "        with gzip.open(f\"{filename}.gz\", 'wb') as f_out:\n",
    "            f_out.write(f_in.read())\n",
    "    gzipped_size = os.path.getsize(f\"{filename}.gz\")\n",
    "    return size, gzipped_size"
   ]
  },
  {
   "cell_type": "code",
   "execution_count": 4,
   "id": "3495c354-b27c-4f9c-99c3-cdca5b4c42c1",
   "metadata": {},
   "outputs": [],
   "source": [
    "def CSR(matrix, base_filename):\n",
    "    if not isinstance(matrix, sparse.csr_matrix):\n",
    "        csr_matrix = sparse.csr_matrix(matrix)\n",
    "    else:\n",
    "        csr_matrix = matrix\n",
    "    \n",
    "    csr_filename = f\"{base_filename}.csr.npz\"\n",
    "    sparse.save_npz(csr_filename, csr_matrix)\n",
    "    \n",
    "    csr_size, csr_gzipped_size = get_sizes(csr_filename)\n",
    "\n",
    "    return {\n",
    "        'format': 'CSR',\n",
    "        'filename': csr_filename,\n",
    "        'size': csr_size,\n",
    "        'size_human': f\"{csr_size / (1024 * 1024):.2f} MB\",\n",
    "        'gzipped_filename': f\"{csr_filename}.gz\", \n",
    "        'gzipped_size': csr_gzipped_size,\n",
    "        'gzipped_size_human': f\"{csr_gzipped_size / (1024 * 1024):.2f} MB\",\n",
    "        'compression_ratio': f\"{csr_size / csr_gzipped_size:.2f}x\"\n",
    "    }"
   ]
  },
  {
   "cell_type": "code",
   "execution_count": 5,
   "id": "8b4594a1-68ec-464e-a0dc-011643d30906",
   "metadata": {},
   "outputs": [],
   "source": [
    "def CSC(matrix, base_filename):\n",
    "    csc_matrix = matrix.tocsc()\n",
    "    csc_filename = f\"{base_filename}.csc.npz\"\n",
    "    sparse.save_npz(csc_filename, csc_matrix)\n",
    "    \n",
    "    csc_size, csc_gzipped_size = get_sizes(csc_filename)\n",
    "    \n",
    "    return {\n",
    "        'format': 'CSC',\n",
    "        'filename': csc_filename,\n",
    "        'size': csc_size,\n",
    "        'size_human': f\"{csc_size / (1024 * 1024):.2f} MB\",\n",
    "        'gzipped_filename': f\"{csc_filename}.gz\", \n",
    "        'gzipped_size': csc_gzipped_size,\n",
    "        'gzipped_size_human': f\"{csc_gzipped_size / (1024 * 1024):.2f} MB\",\n",
    "        'compression_ratio': f\"{csc_size / csc_gzipped_size:.2f}x\"\n",
    "    }   "
   ]
  },
  {
   "cell_type": "code",
   "execution_count": 6,
   "id": "a3c02276-aec9-45c4-a6f0-a0a666839583",
   "metadata": {},
   "outputs": [],
   "source": [
    "def MTX(matrix, base_filename):\n",
    "    mtx_filename = f\"{base_filename}.mtx\"\n",
    "    mmwrite(mtx_filename, matrix)\n",
    "    \n",
    "    mtx_size, mtx_gzipped_size = get_sizes(mtx_filename)\n",
    "    \n",
    "    return {\n",
    "        'format': 'MTX',\n",
    "        'filename': mtx_filename,\n",
    "        'size': mtx_size,\n",
    "        'size_human': f\"{mtx_size / (1024 * 1024):.2f} MB\",\n",
    "        'gzipped_filename': f\"{mtx_filename}.gz\", \n",
    "        'gzipped_size': mtx_gzipped_size,\n",
    "        'gzipped_size_human': f\"{mtx_gzipped_size / (1024 * 1024):.2f} MB\",\n",
    "        'compression_ratio': f\"{mtx_size / mtx_gzipped_size:.2f}x\"\n",
    "    }"
   ]
  },
  {
   "cell_type": "code",
   "execution_count": 10,
   "id": "030b40af-b531-4963-9fb6-b58ffc3eb27e",
   "metadata": {},
   "outputs": [],
   "source": [
    "def LOOM(matrix, base_filename, genes, cells):\n",
    "    adata = anndata.AnnData(\n",
    "        X=matrix,\n",
    "        var=dict(gene_ids=genes),\n",
    "        obs=dict(cell_ids=cells)\n",
    "    )\n",
    "    \n",
    "    loom_filename = f\"{base_filename}.loom\"\n",
    "    adata.write_loom(loom_filename)\n",
    "    \n",
    "    loom_size, loom_gzipped_size = get_sizes(loom_filename)\n",
    "    \n",
    "    return {\n",
    "        'format': 'LOOM',\n",
    "        'filename': loom_filename,\n",
    "        'size': loom_size,\n",
    "        'size_human': f\"{loom_size / (1024 * 1024):.2f} MB\",\n",
    "        'gzipped_filename': f\"{loom_filename}.gz\", \n",
    "        'gzipped_size': loom_gzipped_size,\n",
    "        'gzipped_size_human': f\"{loom_gzipped_size / (1024 * 1024):.2f} MB\",\n",
    "        'compression_ratio': f\"{loom_size / loom_gzipped_size:.2f}x\"\n",
    "    }"
   ]
  },
  {
   "cell_type": "code",
   "execution_count": 11,
   "id": "2168139c-b93e-41b4-8488-5e24a117ba94",
   "metadata": {},
   "outputs": [],
   "source": [
    "def convert_save_measure_matrix(matrix, base_filename, genes, cells):\n",
    "    results = {}\n",
    "\n",
    "    results['CSR']  = CSR(matrix, base_filename)\n",
    "    results['CSC']  = CSC(matrix, base_filename)\n",
    "    results['MTX']  = MTX(matrix, base_filename)\n",
    "    results['LOOM'] = LOOM(matrix, base_filename, genes, cells)\n",
    "\n",
    "    print(\"\\nFormat comparison:\")\n",
    "    print(f\"{'Format':<10} {'Size':<15} {'Gzipped Size':<15} {'Compression Ratio':<20}\")\n",
    "    print(\"-\" * 60)\n",
    "    for format_name, info in results.items():\n",
    "        print(f\"{format_name:<10} {info['size_human']:<15} {info['gzipped_size_human']:<15} {info['compression_ratio']:<20}\")\n",
    "    \n",
    "    return results"
   ]
  },
  {
   "cell_type": "code",
   "execution_count": 12,
   "id": "d5ec7013-9806-4c07-9672-a9055db5776d",
   "metadata": {},
   "outputs": [
    {
     "name": "stderr",
     "output_type": "stream",
     "text": [
      "/Library/Frameworks/Python.framework/Versions/3.12/lib/python3.12/site-packages/anndata/_core/anndata.py:1758: UserWarning: Variable names are not unique. To make them unique, call `.var_names_make_unique`.\n",
      "  utils.warn_names_duplicates(\"var\")\n",
      "/Library/Frameworks/Python.framework/Versions/3.12/lib/python3.12/site-packages/anndata/_core/anndata.py:1758: UserWarning: Variable names are not unique. To make them unique, call `.var_names_make_unique`.\n",
      "  utils.warn_names_duplicates(\"var\")\n"
     ]
    },
    {
     "name": "stdout",
     "output_type": "stream",
     "text": [
      "Converting to MTX format...\n"
     ]
    },
    {
     "name": "stderr",
     "output_type": "stream",
     "text": [
      "OMP: Info #276: omp_set_nested routine deprecated, please use omp_set_max_active_levels instead.\n"
     ]
    },
    {
     "name": "stdout",
     "output_type": "stream",
     "text": [
      "\n",
      "Format comparison:\n",
      "Format     Size            Gzipped Size    Compression Ratio   \n",
      "------------------------------------------------------------\n",
      "CSR        2.76 MB         2.75 MB         1.00x               \n",
      "CSC        3.64 MB         3.62 MB         1.00x               \n",
      "MTX        40.40 MB        5.67 MB         7.12x               \n",
      "LOOM       3.99 MB         3.55 MB         1.12x               \n"
     ]
    }
   ],
   "source": [
    "adata = sc.read_10x_h5(FILE)\n",
    "base_name = os.path.splitext(os.path.basename(FILE))[0]\n",
    "\n",
    "results = convert_save_measure_matrix(\n",
    "    adata.X,\n",
    "    base_filename=base_name,\n",
    "    genes=adata.var_names.tolist(),\n",
    "    cells=adata.obs_names.tolist()\n",
    ")"
   ]
  }
 ],
 "metadata": {
  "kernelspec": {
   "display_name": "Python 3 (ipykernel)",
   "language": "python",
   "name": "python3"
  },
  "language_info": {
   "codemirror_mode": {
    "name": "ipython",
    "version": 3
   },
   "file_extension": ".py",
   "mimetype": "text/x-python",
   "name": "python",
   "nbconvert_exporter": "python",
   "pygments_lexer": "ipython3",
   "version": "3.12.0"
  }
 },
 "nbformat": 4,
 "nbformat_minor": 5
}
