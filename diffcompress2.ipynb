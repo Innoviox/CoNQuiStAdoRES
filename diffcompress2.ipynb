{
 "cells": [
  {
   "cell_type": "code",
   "execution_count": 2,
   "id": "e4e2a4ab-5764-4d5e-aae9-d551fc3b0c52",
   "metadata": {},
   "outputs": [],
   "source": [
    "import scanpy as sc\n",
    "import numpy as np\n",
    "import tqdm\n",
    "import matplotlib.pyplot as plt\n",
    "from sklearn.cluster import KMeans\n",
    "from collections import Counter, defaultdict\n",
    "import itertools as it\n",
    "from utils import *"
   ]
  },
  {
   "cell_type": "code",
   "execution_count": 3,
   "id": "a65c8674-e20e-49e2-afaa-369a2e1ef5cd",
   "metadata": {},
   "outputs": [],
   "source": [
    "FILE = \"datasets/10XGenomics/Targeted_SC3v3_Human_Glioblastoma_Neuroscience_filtered_feature_bc_matrix.h5\""
   ]
  },
  {
   "cell_type": "code",
   "execution_count": 22,
   "id": "d8df9a70-6409-4a54-be95-abeb6a0cc999",
   "metadata": {},
   "outputs": [
    {
     "name": "stderr",
     "output_type": "stream",
     "text": [
      "/Library/Frameworks/Python.framework/Versions/3.12/lib/python3.12/site-packages/anndata/_core/anndata.py:1758: UserWarning: Variable names are not unique. To make them unique, call `.var_names_make_unique`.\n",
      "  utils.warn_names_duplicates(\"var\")\n",
      "/Library/Frameworks/Python.framework/Versions/3.12/lib/python3.12/site-packages/anndata/_core/anndata.py:1758: UserWarning: Variable names are not unique. To make them unique, call `.var_names_make_unique`.\n",
      "  utils.warn_names_duplicates(\"var\")\n"
     ]
    }
   ],
   "source": [
    "adata = sc.read_10x_h5(FILE)\n"
   ]
  },
  {
   "cell_type": "code",
   "execution_count": 29,
   "id": "ecc04a9f-c3e9-4260-805d-88961a967733",
   "metadata": {},
   "outputs": [
    {
     "ename": "AttributeError",
     "evalue": "'numpy.ndarray' object has no attribute 'todense'",
     "output_type": "error",
     "traceback": [
      "\u001b[0;31m---------------------------------------------------------------------------\u001b[0m",
      "\u001b[0;31mAttributeError\u001b[0m                            Traceback (most recent call last)",
      "Cell \u001b[0;32mIn[29], line 1\u001b[0m\n\u001b[0;32m----> 1\u001b[0m Q \u001b[38;5;241m=\u001b[39m \u001b[43madata\u001b[49m\u001b[38;5;241;43m.\u001b[39;49m\u001b[43mX\u001b[49m\u001b[38;5;241;43m.\u001b[39;49m\u001b[43mtodense\u001b[49m()\n\u001b[1;32m      2\u001b[0m Q\n",
      "\u001b[0;31mAttributeError\u001b[0m: 'numpy.ndarray' object has no attribute 'todense'"
     ]
    }
   ],
   "source": [
    "Q = adata.X.todense()"
   ]
  },
  {
   "cell_type": "code",
   "execution_count": 27,
   "id": "c41ec100-cfb4-41ef-8959-92efb321757c",
   "metadata": {},
   "outputs": [
    {
     "data": {
      "text/plain": [
       "1850701"
      ]
     },
     "execution_count": 27,
     "metadata": {},
     "output_type": "execute_result"
    }
   ],
   "source": [
    "adata = ad.AnnData(reclassify(Q, 3))\n",
    "X = adata.X\n",
    "np.count_nonzero(X)"
   ]
  },
  {
   "cell_type": "code",
   "execution_count": 30,
   "id": "30af0952-842e-4a67-8d1b-1ce1c0654df4",
   "metadata": {},
   "outputs": [
    {
     "data": {
      "text/plain": [
       "matrix([[ 1.,  0.,  0., ...,  0.,  0.,  0.],\n",
       "        [ 0.,  0.,  0., ...,  0.,  0.,  0.],\n",
       "        [ 5.,  0., 13., ...,  1.,  0.,  0.],\n",
       "        ...,\n",
       "        [ 0.,  0.,  2., ...,  0.,  0.,  0.],\n",
       "        [ 1.,  0., 22., ...,  1.,  0.,  0.],\n",
       "        [ 1.,  0.,  0., ...,  0.,  0.,  0.]], dtype=float32)"
      ]
     },
     "execution_count": 30,
     "metadata": {},
     "output_type": "execute_result"
    }
   ],
   "source": [
    "Q"
   ]
  },
  {
   "cell_type": "code",
   "execution_count": 28,
   "id": "0e8abf5f-4a39-4c16-a25d-33f222037554",
   "metadata": {},
   "outputs": [
    {
     "data": {
      "text/plain": [
       "array([[1., 0., 0., ..., 0., 0., 0.],\n",
       "       [0., 0., 0., ..., 0., 0., 0.],\n",
       "       [1., 0., 1., ..., 1., 0., 0.],\n",
       "       ...,\n",
       "       [0., 0., 1., ..., 0., 0., 0.],\n",
       "       [1., 0., 1., ..., 1., 0., 0.],\n",
       "       [1., 0., 0., ..., 0., 0., 0.]], dtype=float32)"
      ]
     },
     "execution_count": 28,
     "metadata": {},
     "output_type": "execute_result"
    }
   ],
   "source": [
    "X"
   ]
  },
  {
   "cell_type": "code",
   "execution_count": 31,
   "id": "68c53f59-7066-4deb-b7c0-4bdc469187a5",
   "metadata": {},
   "outputs": [
    {
     "name": "stderr",
     "output_type": "stream",
     "text": [
      "100%|███████████████████████████████████| 5697/5697 [00:00<00:00, 393093.09it/s]\n"
     ]
    }
   ],
   "source": [
    "def cell(i):\n",
    "    return np.array(X[i, :]).flatten()\n",
    "ncells = X.shape[0]\n",
    "sims = np.zeros((ncells, ncells))\n",
    "\n",
    "cells = []\n",
    "for i in tqdm.trange(ncells):\n",
    "    cells.append(cell(i))\n"
   ]
  },
  {
   "cell_type": "code",
   "execution_count": 34,
   "id": "86424854-8cf5-4878-b97f-1d70cb972486",
   "metadata": {},
   "outputs": [
    {
     "name": "stderr",
     "output_type": "stream",
     "text": [
      "  0%|▏                                        | 19/5697 [00:04<24:28,  3.87it/s]\n"
     ]
    },
    {
     "ename": "KeyboardInterrupt",
     "evalue": "",
     "output_type": "error",
     "traceback": [
      "\u001b[0;31m---------------------------------------------------------------------------\u001b[0m",
      "\u001b[0;31mKeyboardInterrupt\u001b[0m                         Traceback (most recent call last)",
      "Cell \u001b[0;32mIn[34], line 6\u001b[0m\n\u001b[1;32m      4\u001b[0m \u001b[38;5;28;01mfor\u001b[39;00m j \u001b[38;5;129;01min\u001b[39;00m \u001b[38;5;28mrange\u001b[39m(ncells):\n\u001b[1;32m      5\u001b[0m     b \u001b[38;5;241m=\u001b[39m cells[j]\n\u001b[0;32m----> 6\u001b[0m     sims[i][j] \u001b[38;5;241m=\u001b[39m \u001b[38;5;28;43msum\u001b[39;49m\u001b[43m(\u001b[49m\u001b[43mq\u001b[49m\u001b[43m \u001b[49m\u001b[38;5;241;43m&\u001b[39;49m\u001b[43m \u001b[49m\u001b[43m(\u001b[49m\u001b[43ma\u001b[49m\u001b[43m \u001b[49m\u001b[38;5;241;43m==\u001b[39;49m\u001b[43m \u001b[49m\u001b[43mb\u001b[49m\u001b[43m)\u001b[49m\u001b[43m)\u001b[49m\n",
      "\u001b[0;31mKeyboardInterrupt\u001b[0m: "
     ]
    }
   ],
   "source": [
    "for i in tqdm.trange(ncells):\n",
    "    a = cells[i]\n",
    "    q = a != 0\n",
    "    for j in range(ncells):\n",
    "        b = cells[j]\n",
    "        sims[i][j] = sum(q & (a == b))"
   ]
  },
  {
   "cell_type": "code",
   "execution_count": 39,
   "id": "8687777f-74cc-44b1-9fb5-d1f2908de4a7",
   "metadata": {},
   "outputs": [
    {
     "name": "stdout",
     "output_type": "stream",
     "text": [
      "412\n",
      "396\n",
      "375\n",
      "359\n",
      "343\n",
      "332\n",
      "323\n",
      "311\n",
      "304\n",
      "298\n",
      "293\n",
      "287\n",
      "282\n",
      "278\n",
      "271\n",
      "269\n",
      "264\n",
      "260\n",
      "253\n",
      "247\n",
      "244\n",
      "236\n",
      "234\n",
      "232\n",
      "229\n",
      "226\n",
      "220\n",
      "217\n",
      "213\n",
      "211\n",
      "210\n",
      "206\n",
      "205\n",
      "201\n",
      "200\n",
      "199\n",
      "198\n",
      "198\n",
      "195\n",
      "194\n",
      "191\n",
      "189\n",
      "188\n",
      "186\n",
      "184\n",
      "181\n",
      "180\n",
      "177\n",
      "177\n",
      "175\n",
      "173\n",
      "170\n",
      "167\n",
      "166\n",
      "164\n",
      "162\n",
      "160\n",
      "160\n",
      "159\n",
      "158\n",
      "156\n",
      "154\n",
      "154\n",
      "153\n",
      "153\n",
      "153\n",
      "151\n",
      "150\n",
      "149\n",
      "148\n",
      "147\n",
      "147\n",
      "145\n",
      "145\n",
      "143\n",
      "141\n",
      "140\n",
      "140\n",
      "140\n",
      "139\n",
      "138\n",
      "138\n",
      "138\n",
      "136\n",
      "136\n",
      "136\n",
      "135\n",
      "134\n",
      "134\n",
      "133\n",
      "133\n",
      "133\n",
      "133\n",
      "131\n",
      "130\n",
      "130\n",
      "129\n",
      "127\n",
      "127\n",
      "127\n",
      "127\n",
      "124\n",
      "122\n",
      "121\n",
      "121\n",
      "121\n",
      "121\n",
      "121\n",
      "120\n",
      "119\n",
      "119\n",
      "119\n",
      "118\n",
      "118\n",
      "118\n",
      "118\n",
      "117\n",
      "117\n",
      "117\n",
      "116\n",
      "114\n",
      "113\n",
      "112\n",
      "109\n",
      "109\n",
      "109\n",
      "108\n",
      "106\n",
      "106\n",
      "105\n",
      "105\n",
      "104\n",
      "102\n",
      "133\n"
     ]
    }
   ],
   "source": [
    "i = 2\n",
    "x = np.quantile(list(sims[i][:i]) + list(sims[i][i + 1:]), 0.9)\n",
    "L = cells[i].shape[0]\n",
    "out = np.full(L, True)\n",
    "out &= cells[i] != 0\n",
    "\n",
    "s_arr = list(zip(range(L), sims[i]))\n",
    "\n",
    "q = 0\n",
    "for k, v in sorted(s_arr, key = lambda i: -i[1]):\n",
    "    if k == i or v < x:\n",
    "        continue\n",
    "\n",
    "    # print(k, v)\n",
    "    out &= cells[i] == cells[k]\n",
    "    print(sum(out))\n",
    "    q += 1\n",
    "print(q)"
   ]
  },
  {
   "cell_type": "code",
   "execution_count": 40,
   "id": "3a9b634f-fda8-4886-b07d-d8e87a276dc4",
   "metadata": {},
   "outputs": [
    {
     "data": {
      "text/plain": [
       "13566"
      ]
     },
     "execution_count": 40,
     "metadata": {},
     "output_type": "execute_result"
    }
   ],
   "source": [
    "133 * 102"
   ]
  }
 ],
 "metadata": {
  "kernelspec": {
   "display_name": "Python 3 (ipykernel)",
   "language": "python",
   "name": "python3"
  },
  "language_info": {
   "codemirror_mode": {
    "name": "ipython",
    "version": 3
   },
   "file_extension": ".py",
   "mimetype": "text/x-python",
   "name": "python",
   "nbconvert_exporter": "python",
   "pygments_lexer": "ipython3",
   "version": "3.12.0"
  }
 },
 "nbformat": 4,
 "nbformat_minor": 5
}
